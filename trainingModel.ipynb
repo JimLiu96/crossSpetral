{
 "cells": [
  {
   "cell_type": "code",
   "execution_count": null,
   "metadata": {},
   "outputs": [],
   "source": [
    "%load_ext autoreload\n",
    "%reload_ext autoreload\n",
    "%autoreload"
   ]
  },
  {
   "cell_type": "code",
   "execution_count": null,
   "metadata": {},
   "outputs": [],
   "source": [
    "# %reset -f\n",
    "# !pip install cPickle\n",
    "# import os\n",
    "# codeFileList = ['main','SpectralCF','params','test','load_data']\n",
    "# for codeFile in codeFileList:\n",
    "#     codePycFile = codeFile + '.pyc'\n",
    "#     if os.path.exists(codePycFile):\n",
    "#         print(codePycFile)\n",
    "#         os.remove(codePycFile)\n",
    "# import params\n",
    "# import load_data\n",
    "# import test\n",
    "# import SpectralCF\n",
    "from main import modelTrain\n",
    "# import back_main"
   ]
  },
  {
   "cell_type": "code",
   "execution_count": null,
   "metadata": {
    "scrolled": true
   },
   "outputs": [],
   "source": [
    "modelTrain(True)\n",
    "# back_main.modelTrain(True)"
   ]
  },
  {
   "cell_type": "code",
   "execution_count": null,
   "metadata": {},
   "outputs": [],
   "source": [
    "# graph = test.data_generator.R\n",
    "# A = main.adjacient_matrix(graph,self_connection=True)\n",
    "# D = main.degree_matrix(A)\n",
    "# L = main.laplacian_matrix(D,A,normalized=True)\n",
    "# print('finish Laplacian')\n",
    "# eigenPickleFile = params.eigenPickleFile\n",
    "# print(eigenPickleFile)\n",
    "# graphLambda, graphU = main.genEigenvector(L, eigenPickleFile)"
   ]
  },
  {
   "cell_type": "code",
   "execution_count": null,
   "metadata": {},
   "outputs": [],
   "source": []
  }
 ],
 "metadata": {
  "kernelspec": {
   "display_name": "Python [conda env:zhiweitensorflow3]",
   "language": "python",
   "name": "conda-env-zhiweitensorflow3-py"
  },
  "language_info": {
   "codemirror_mode": {
    "name": "ipython",
    "version": 3
   },
   "file_extension": ".py",
   "mimetype": "text/x-python",
   "name": "python",
   "nbconvert_exporter": "python",
   "pygments_lexer": "ipython3",
   "version": "3.6.6"
  }
 },
 "nbformat": 4,
 "nbformat_minor": 2
}
