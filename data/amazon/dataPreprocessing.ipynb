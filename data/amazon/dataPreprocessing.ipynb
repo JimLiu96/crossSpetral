{
 "cells": [
  {
   "cell_type": "code",
   "execution_count": 16,
   "metadata": {},
   "outputs": [
    {
     "name": "stdout",
     "output_type": "stream",
     "text": [
      "The autoreload extension is already loaded. To reload it, use:\n",
      "  %reload_ext autoreload\n"
     ]
    }
   ],
   "source": [
    "# %load_ext autoreload\n",
    "%load_ext autoreload\n",
    "%autoreload 2"
   ]
  },
  {
   "cell_type": "code",
   "execution_count": 1,
   "metadata": {},
   "outputs": [],
   "source": [
    "import sys\n",
    "import preprocess\n",
    "import pickle\n",
    "import numpy as np"
   ]
  },
  {
   "cell_type": "markdown",
   "metadata": {},
   "source": [
    "1. Books\n",
    "2. Electronics\n",
    "3. Movies and TV\n",
    "4. CDs and Vinyl\n",
    "5. Clothing, Shoes and Jewelry\n",
    "6. Home and Kitchen\n",
    "7. Kindle Store\n",
    "8. Sports and Outdoors\n",
    "9. Cell Phones and Accessories\n",
    "10. Health and Personal Care\n",
    "11. Toys and Games\n",
    "12. Video Games\n",
    "13. Tools and Home Improvement\n",
    "14. Beauty\n",
    "15. Apps for Android\n",
    "16. Office Products\n",
    "17. Pet Supplies\n",
    "18. Automotive\n",
    "19. Grocery and Gourmet Food\n",
    "20. Patio, Lawn and Garden\n",
    "21. Baby\n",
    "22. Digital Music\n",
    "23. Musical Instruments\n",
    "24. Amazon Instant Video"
   ]
  },
  {
   "cell_type": "code",
   "execution_count": 2,
   "metadata": {},
   "outputs": [
    {
     "name": "stdout",
     "output_type": "stream",
     "text": [
      "data/amazon/ratings_Clothing_Shoes_and_Jewelry total Statistic (user, item, ratings): 3117268 1136004 5748920\n",
      "data/amazon/ratings_Home_and_Kitchen total Statistic (user, item, ratings): 2511610 410243 4253926\n",
      "data/amazon/ratings_Kindle_Store total Statistic (user, item, ratings): 1406890 430530 3205467\n",
      "data/amazon/ratings_Sports_and_Outdoors total Statistic (user, item, ratings): 1990521 478898 3268695\n",
      "data/amazon/ratings_Cell_Phones_and_Accessories total Statistic (user, item, ratings): 2261045 319678 3447249\n",
      "data/amazon/ratings_Health_and_Personal_Care total Statistic (user, item, ratings): 1851132 252331 2982326\n",
      "data/amazon/ratings_Toys_and_Games total Statistic (user, item, ratings): 1342911 327698 2252771\n",
      "data/amazon/ratings_Video_Games total Statistic (user, item, ratings): 826767 50210 1324753\n",
      "data/amazon/ratings_Tools_and_Home_Improvement total Statistic (user, item, ratings): 1212468 260659 1926047\n",
      "data/amazon/ratings_Beauty total Statistic (user, item, ratings): 1210271 249274 2023070\n",
      "data/amazon/ratings_Apps_for_Android total Statistic (user, item, ratings): 1323884 61275 2638172\n",
      "data/amazon/ratings_Office_Products total Statistic (user, item, ratings): 909314 130006 1243186\n",
      "data/amazon/ratings_Pet_Supplies total Statistic (user, item, ratings): 740985 103288 1235316\n",
      "data/amazon/ratings_Automotive total Statistic (user, item, ratings): 851418 320112 1373768\n",
      "data/amazon/ratings_Grocery_and_Gourmet_Food total Statistic (user, item, ratings): 768438 166049 1297156\n",
      "data/amazon/ratings_Patio_Lawn_and_Garden total Statistic (user, item, ratings): 714791 105984 993490\n",
      "data/amazon/ratings_Baby total Statistic (user, item, ratings): 531890 64426 915446\n",
      "data/amazon/ratings_Digital_Music total Statistic (user, item, ratings): 478235 266414 836006\n",
      "data/amazon/ratings_Musical_Instruments total Statistic (user, item, ratings): 339231 83046 500176\n",
      "data/amazon/ratings_Amazon_Instant_Video total Statistic (user, item, ratings): 426922 23965 583933\n"
     ]
    }
   ],
   "source": [
    "# get all the userID and itemID\n",
    "# it has already be processed\n",
    "for domainIdx in range(5,25):\n",
    "    domainMetaName = preprocess.loadMetaDomain(domainIdx)\n",
    "    # print(domainMetaName)\n",
    "    ratingFileName = 'data/amazon/ratings_' + domainMetaName+'.csv'\n",
    "    # print(ratingFileName)\n",
    "    preprocess.getAllUserItems(ratingFileName)"
   ]
  },
  {
   "cell_type": "code",
   "execution_count": 31,
   "metadata": {},
   "outputs": [
    {
     "name": "stdout",
     "output_type": "stream",
     "text": [
      "data/amazon/ratings_Pet_Supplies\n",
      "-----transforming training file----------\n",
      "-----transforming testing file----------\n",
      "-----transforming negative file----------\n"
     ]
    }
   ],
   "source": [
    "# transforming the amazon training data to the baseline's required dataset form\n",
    "domainIdx = 17\n",
    "domainMetaName = preprocess.loadMetaDomain(domainIdx)\n",
    "metaName = 'data/amazon/ratings_' + domainMetaName\n",
    "print(metaName)\n",
    "# trainData, testData = preprocess.loadTrainTest(metaName)\n",
    "preprocess.transformDataSet(metaName)"
   ]
  },
  {
   "cell_type": "code",
   "execution_count": null,
   "metadata": {},
   "outputs": [],
   "source": [
    "dataInfoPath = 'data/amazon/domain_info.txt'\n",
    "with open(dataInfoPath, 'r') as df:\n",
    "    for line in df:\n",
    "        numU = int(line.split()[-3])\n",
    "        numI = int(line.split()[-2])\n",
    "        numRating = float(line.split()[-1])\n",
    "        sparsity = (numRating+0.0)/(numU * numI)\n",
    "        print(line.split('(')[0]+ ':' + str(sparsity))\n",
    "#         print(numU)"
   ]
  },
  {
   "cell_type": "code",
   "execution_count": null,
   "metadata": {},
   "outputs": [],
   "source": [
    "#get the number of common users\n",
    "for domainIdx in range(1,25):\n",
    "    for domainIdx_2 in range(1,25):\n",
    "        if domainIdx != domainIdx_2:\n",
    "            domainMetaName_1 = preprocess.loadMetaDomain(domainIdx)\n",
    "            domainMetaName_2 = preprocess.loadMetaDomain(domainIdx_2)\n",
    "        # print(domainMetaName)\n",
    "            allUserMetaName_1 = 'data/amazon/ratings_' + domainMetaName_1\n",
    "            allUserMetaName_2 = 'data/amazon/ratings_' + domainMetaName_2\n",
    "            users = preprocess.allCommonUser(allUserMetaName_1,allUserMetaName_2)\n",
    "#     print(len(users))"
   ]
  },
  {
   "cell_type": "code",
   "execution_count": 4,
   "metadata": {
    "scrolled": true
   },
   "outputs": [
    {
     "name": "stdout",
     "output_type": "stream",
     "text": [
      "data/amazon/ratings_Books.csv\n",
      "data/amazon/ratings_Books\n",
      "data/amazon/ratings_Electronics.csv\n",
      "data/amazon/ratings_Electronics\n",
      "data/amazon/ratings_Movies_and_TV.csv\n",
      "data/amazon/ratings_Movies_and_TV\n",
      "data/amazon/ratings_CDs_and_Vinyl.csv\n",
      "data/amazon/ratings_CDs_and_Vinyl\n",
      "data/amazon/ratings_Clothing_Shoes_and_Jewelry.csv\n",
      "data/amazon/ratings_Clothing_Shoes_and_Jewelry\n",
      "data/amazon/ratings_Home_and_Kitchen.csv\n",
      "data/amazon/ratings_Home_and_Kitchen\n",
      "data/amazon/ratings_Kindle_Store.csv\n",
      "data/amazon/ratings_Kindle_Store\n",
      "data/amazon/ratings_Sports_and_Outdoors.csv\n",
      "data/amazon/ratings_Sports_and_Outdoors\n",
      "data/amazon/ratings_Cell_Phones_and_Accessories.csv\n",
      "data/amazon/ratings_Cell_Phones_and_Accessories\n",
      "data/amazon/ratings_Health_and_Personal_Care.csv\n",
      "data/amazon/ratings_Health_and_Personal_Care\n",
      "data/amazon/ratings_Toys_and_Games.csv\n",
      "data/amazon/ratings_Toys_and_Games\n",
      "data/amazon/ratings_Video_Games.csv\n",
      "data/amazon/ratings_Video_Games\n",
      "data/amazon/ratings_Tools_and_Home_Improvement.csv\n",
      "data/amazon/ratings_Tools_and_Home_Improvement\n",
      "data/amazon/ratings_Beauty.csv\n",
      "data/amazon/ratings_Beauty\n",
      "data/amazon/ratings_Apps_for_Android.csv\n",
      "data/amazon/ratings_Apps_for_Android\n",
      "data/amazon/ratings_Office_Products.csv\n",
      "data/amazon/ratings_Office_Products\n",
      "data/amazon/ratings_Pet_Supplies.csv\n",
      "data/amazon/ratings_Pet_Supplies\n",
      "data/amazon/ratings_Automotive.csv\n",
      "data/amazon/ratings_Automotive\n",
      "data/amazon/ratings_Grocery_and_Gourmet_Food.csv\n",
      "data/amazon/ratings_Grocery_and_Gourmet_Food\n",
      "data/amazon/ratings_Patio_Lawn_and_Garden.csv\n",
      "data/amazon/ratings_Patio_Lawn_and_Garden\n",
      "data/amazon/ratings_Baby.csv\n",
      "data/amazon/ratings_Baby\n",
      "data/amazon/ratings_Digital_Music.csv\n",
      "data/amazon/ratings_Digital_Music\n",
      "data/amazon/ratings_Musical_Instruments.csv\n",
      "data/amazon/ratings_Musical_Instruments\n",
      "data/amazon/ratings_Amazon_Instant_Video.csv\n",
      "data/amazon/ratings_Amazon_Instant_Video\n"
     ]
    }
   ],
   "source": [
    "# ratingFileName1 = 'data/amazon/ratings_Amazon_Instant_Video.csv'\n",
    "# ratingFileName2 = 'data/amazon/ratings_Video_Games.csv'\n",
    "# ratingFileName3 = 'data/amazon/ratings_Books.csv'\n",
    "# ratingFileName4 = 'data/amazon/ratings_Movies_and_TV.csv'\n",
    "# ratingFileName5 = 'data/amazon/ratings_Tools_and_Home_Improvement.csv'\n",
    "# ratingFileName6 = 'data/amazon/ratings_Home_and_Kitchen.csv'\n",
    "# ratingFileName7 = 'data/amazon/ratings_Automotive.csv'\n",
    "# ratingFileName8 = 'data/amazon/ratings_Digital_Music.csv'\n",
    "# ratingFileName9 = 'data/amazon/ratings_' + preprocess.loadMetaDomain(9) + '.csv'\n",
    "# ratingFileName10 = 'data/amazon/ratings_' + preprocess.loadMetaDomain(10) + '.csv'\n",
    "# ratingFileName17 = 'data/amazon/ratings_Pet_Supplies.csv'\n",
    "\n",
    "# metaName1 = ratingFileName1.split('.')[0]\n",
    "# metaName2 = ratingFileName2.split('.')[0]\n",
    "# metaName3 = ratingFileName3.split('.')[0]\n",
    "# metaName4 = ratingFileName4.split('.')[0]\n",
    "# metaName5 = ratingFileName5.split('.')[0]\n",
    "# metaName6 = ratingFileName6.split('.')[0]\n",
    "# metaName7 = ratingFileName7.split('.')[0]\n",
    "# metaName8 = ratingFileName8.split('.')[0]\n",
    "\n",
    "# print(metaName1)\n",
    "# print(metaName2)\n",
    "# print(metaName3)\n",
    "# print(metaName4)\n",
    "# print(metaName5)\n",
    "# print(metaName6)\n",
    "# print(metaName7)\n",
    "# print(metaName8)\n",
    "ratingFileName = [0]\n",
    "metaName = [0]\n",
    "for metaNameIdx in range(1,25):\n",
    "    tempFileName = 'data/amazon/ratings_' + preprocess.loadMetaDomain(metaNameIdx) + '.csv'\n",
    "    print(tempFileName)\n",
    "    ratingFileName.append(tempFileName)\n",
    "    tempMetaName = tempFileName.split('.')[0]\n",
    "    print(tempMetaName)\n",
    "    metaName.append(tempMetaName)"
   ]
  },
  {
   "cell_type": "code",
   "execution_count": 30,
   "metadata": {},
   "outputs": [
    {
     "name": "stdout",
     "output_type": "stream",
     "text": [
      "total Statistic: 740985 103288 1235316\n",
      "starting dump the id of users and items\n",
      "Remaning: 488 1812\n",
      "0.007393786414793906\n"
     ]
    }
   ],
   "source": [
    "preprocess.processing(ratingFileName1, num_items = 5, train_items = 10, num_users = 0)\n",
    "# preprocess.processing(ratingFileName2,num_items = 5, train_items = 10, num_users = 3)\n",
    "# preprocess.processing(ratingFileName3,num_items = 30, train_items = 50, num_users = 30)\n",
    "# preprocess.processing(ratingFileName4, num_items = 15, train_items = 20, num_users = 10)\n",
    "# preprocess.processing(ratingFileName5,num_items = 5, train_items = 10, num_users = 5)\n",
    "# preprocess.processing(ratingFileName6,num_items = 10, train_items = 15, num_users = 5)\n",
    "# preprocess.processing(ratingFileName7,40)\n",
    "# preprocess.processing(ratingFileName8,60)\n",
    "# preprocess.processing(ratingFileName[17],num_items = 10, train_items = 15, num_users = 5)"
   ]
  },
  {
   "cell_type": "code",
   "execution_count": 64,
   "metadata": {},
   "outputs": [
    {
     "name": "stdout",
     "output_type": "stream",
     "text": [
      "find the data/amazon/ratings_Musical_Instruments.csv from data/amazon/ratings_Amazon_Instant_Video\n",
      "starting dump the id of users and items\n",
      "Target Statistic: 284 932\n",
      "0.0035211267605633804\n",
      "0.09123032444587215\n"
     ]
    }
   ],
   "source": [
    "# targetU2Items = preprocess.source2targetUserRating(metaName[24],ratingFileName[1],percent=1.0, \n",
    "#                                                    train_items=2,user_thres = 2,item_thres=1)\n",
    "# targetU2Items = preprocess.source2targetUserRating(metaName[24],ratingFileName[2],percent=1.0, \n",
    "#                                                    train_items=2,user_thres = 2,item_thres=1)\n",
    "# targetU2Items = preprocess.source2targetUserRating(metaName[24],ratingFileName[3],percent=1.0, \n",
    "#                                                    train_items=5,user_thres = 3,item_thres=1)\n",
    "# targetU2Items = preprocess.source2targetUserRating(metaName[24],ratingFileName[4],percent=1.0, \n",
    "#                                                    train_items=2,user_thres = 2,item_thres=1)\n",
    "# targetU2Items = preprocess.source2targetUserRating(metaName[24],ratingFileName[5],percent=1.0, \n",
    "#                                                    train_items=1,user_thres = 2,item_thres=1)\n",
    "# targetU2Items = preprocess.source2targetUserRating(metaName[24],ratingFileName[6],percent=1.0, \n",
    "#                                                    train_items=1,user_thres = 2,item_thres=1)\n",
    "# targetU2Items = preprocess.source2targetUserRating(metaName[24],ratingFileName[7],percent=1.0, \n",
    "#                                                    train_items=1,user_thres = 2,item_thres=1)\n",
    "# targetU2Items = preprocess.source2targetUserRating(metaName[24],ratingFileName[8],percent=1.0, \n",
    "#                                                    train_items=1,user_thres = 1,item_thres=1)\n",
    "# targetU2Items = preprocess.source2targetUserRating(metaName[24],ratingFileName[9],percent=1.0, \n",
    "#                                                    train_items=1,user_thres = 1,item_thres=1)\n",
    "# targetU2Items = preprocess.source2targetUserRating(metaName[24],ratingFileName[10],percent=1.0, \n",
    "#                                                    train_items=1,user_thres = 2,item_thres=1)\n",
    "\n",
    "# targetU2Items = preprocess.source2targetUserRating(metaName[24],ratingFileName[11],percent=1.0, \n",
    "#                                                    train_items=1,user_thres = 1,item_thres=1)\n",
    "\n",
    "# targetU2Items = preprocess.source2targetUserRating(metaName[24],ratingFileName[12],percent=1.0, \n",
    "#                                                    train_items=1,user_thres = 1,item_thres=1)\n",
    "# targetU2Items = preprocess.source2targetUserRating(metaName[24],ratingFileName[13],percent=1.0, \n",
    "#                                                    train_items=1,user_thres = 1,item_thres=1)\n",
    "# targetU2Items = preprocess.source2targetUserRating(metaName[24],ratingFileName[14],percent=1.0, \n",
    "#                                                    train_items=1,user_thres = 2,item_thres=1)\n",
    "# targetU2Items = preprocess.source2targetUserRating(metaName[24],ratingFileName[15],percent=1.0, \n",
    "#                                                    train_items=1,user_thres = 2,item_thres=1)\n",
    "# targetU2Items = preprocess.source2targetUserRating(metaName[24],ratingFileName[16],percent=1.0, \n",
    "#                                                    train_items=1,user_thres = 1,item_thres=1)\n",
    "# targetU2Items = preprocess.source2targetUserRating(metaName[24],ratingFileName[17],percent=1.0, \n",
    "#                                                    train_items=1,user_thres = 1,item_thres=1)\n",
    "# targetU2Items = preprocess.source2targetUserRating(metaName[24],ratingFileName[18],percent=1.0, \n",
    "#                                                    train_items=1,user_thres = 1,item_thres=1)\n",
    "# targetU2Items = preprocess.source2targetUserRating(metaName[24],ratingFileName[19],percent=1.0, \n",
    "#                                                    train_items=1,user_thres = 1,item_thres=1)\n",
    "# targetU2Items = preprocess.source2targetUserRating(metaName[24],ratingFileName[20],percent=1.0, \n",
    "#                                                    train_items=1,user_thres = 1,item_thres=1)\n",
    "# targetU2Items = preprocess.source2targetUserRating(metaName[24],ratingFileName[21],percent=1.0, \n",
    "#                                                    train_items=1,user_thres = 1,item_thres=1)\n",
    "# targetU2Items = preprocess.source2targetUserRating(metaName[24],ratingFileName[22],percent=1.0, \n",
    "#                                                    train_items=1,user_thres = 2,item_thres=1)\n",
    "targetU2Items = preprocess.source2targetUserRating(metaName[24],ratingFileName[23],percent=1.0, \n",
    "                                                   train_items=1,user_thres = 1,item_thres=1)"
   ]
  },
  {
   "cell_type": "code",
   "execution_count": 65,
   "metadata": {},
   "outputs": [
    {
     "name": "stdout",
     "output_type": "stream",
     "text": [
      "284\n"
     ]
    }
   ],
   "source": [
    "# source target ID pair\n",
    "targetMetaIdx = 23\n",
    "sourceMetaIdx = 24\n",
    "sourceMetaName = preprocess.pathMetaN2MetaN(metaName[sourceMetaIdx],isFile=False)\n",
    "targetMetaName = metaName[targetMetaIdx] + '_from_' + sourceMetaName\n",
    "stCommon = preprocess.commonUserIDpair(metaName[sourceMetaIdx], targetMetaName)\n",
    "print(len(stCommon))"
   ]
  },
  {
   "cell_type": "markdown",
   "metadata": {},
   "source": [
    "### Precessing information\n",
    "\n",
    "#### ratings_Automotive\n",
    "find the data/amazon/ratings_Automotive.csv from data/amazon/ratings_Amazon_Instant_Video\n",
    "starting dump the id of users and items\n",
    "Target Statistic: 416 1179\n",
    "0.002403846153846154\n",
    "0.13363315130099582\n",
    "\n",
    "32 1024 0.001 5 20000 0.001\n",
    "Epoch 1233 training loss 1.107381\n",
    "[0.0986255069851284, 0.14681413048920935, 0.17734715337239002, 0.20165489960442648, 0.21747784287216476, 0.018928110420526743, 0.02180483105459752, 0.022819656296604596, 0.023335650780588593, 0.023612543796413737]\n",
    "ratings_Amazon_Instant_Video: recall_20 0.071013 recall_40 0.125720 recall_60 0.155027 recall_80 0.184862 recall_100 0.208393\n",
    "ratings_Amazon_Instant_Video: map_20 0.011142 map_40 0.014171 map_60 0.015170 map_80 0.015931 map_100 0.016369\n",
    "Best Recall for ratings_Amazon_Instant_Video: recall_20 0.098626 recall_40 0.146814 recall_60 0.177347 recall_80 0.201655 recall_100 0.217478\n",
    "Best MAP for ratings_Amazon_Instant_Video: map_20 0.018928 map_40 0.021805 map_60 0.022820 map_80 0.023336 map_100 0.023613\n",
    "\n",
    "find the data/amazon/ratings_Movies_and_TV.csv from data/amazon/ratings_Amazon_Instant_Video\n",
    "starting dump the id of users and items\n",
    "Target Statistic: 431 5930\n",
    "0.002320185614849188\n",
    "0.13845165435271442\n",
    "\n",
    "#### ratings_Grocery_and_Gourmet_Food\n",
    "find the data/amazon/ratings_Grocery_and_Gourmet_Food.csv from data/amazon/ratings_Amazon_Instant_Video\n",
    "starting dump the id of users and items\n",
    "Target Statistic: 748 4593\n",
    "0.001336898395721925\n",
    "0.24028268551236748\n",
    "\n",
    "Best Recall for ratings_Amazon_Instant_Video: recall_20 0.085346 recall_40 0.139104 recall_60 0.173789 recall_80 0.196406 recall_100 0.220483\n",
    "Best MAP for ratings_Amazon_Instant_Video: map_20 0.019637 map_40 0.022741 map_60 0.023715 map_80 0.024228 map_100 0.024616\n",
    "\n",
    "#### ratings_Patio_Lawn_and_Garden\n",
    "find the data/amazon/ratings_Patio_Lawn_and_Garden.csv from data/amazon/ratings_Amazon_Instant_Video\n",
    "starting dump the id of users and items\n",
    "Target Statistic: 460 1236\n",
    "0.002173913043478261\n",
    "0.1477674269193704\n",
    "\n",
    "32 1024 0.001 5 20000 0.001\n",
    "Epoch 15037 training loss 0.137601\n",
    "[0.0945070352010415, 0.14718967502879174, 0.17698162335386314, 0.19658129287466836, 0.21863452005407844, 0.024812326211716765, 0.026940817517639912, 0.02875654073749163, 0.02926778050692659, 0.029525957638299953]\n",
    "ratings_Amazon_Instant_Video: recall_20 0.022549 recall_40 0.044946 recall_60 0.063541 recall_80 0.077736 recall_100 0.091143\n",
    "ratings_Amazon_Instant_Video: map_20 0.003400 map_40 0.004354 map_60 0.004944 map_80 0.005250 map_100 0.005488\n",
    "Best Recall for ratings_Amazon_Instant_Video: recall_20 0.094507 recall_40 0.147190 recall_60 0.176982 recall_80 0.196581 recall_100 0.218635\n",
    "Best MAP for ratings_Amazon_Instant_Video: map_20 0.024812 map_40 0.026941 map_60 0.028757 map_80 0.029268 map_100 0.029526\n",
    "\n",
    "#### ratings_Baby\n",
    "find the data/amazon/ratings_Baby.csv from data/amazon/ratings_Amazon_Instant_Video\n",
    "starting dump the id of users and items\n",
    "Target Statistic: 263 737\n",
    "0.0038022813688212928\n",
    "0.08448442017346611\n",
    "\n",
    "32 1024 0.001 5 20000 0.001\n",
    "Epoch 809 training loss 1.376249\n",
    "[0.09265434880576835, 0.14306995142957285, 0.17494241650393075, 0.19808847829352566, 0.21434079415151977, 0.021213064177167448, 0.021845956154665284, 0.02228836502207815, 0.02268457928242272, 0.02302752277042695]\n",
    "ratings_Amazon_Instant_Video: recall_20 0.085369 recall_40 0.132108 recall_60 0.158050 recall_80 0.180343 recall_100 0.196356\n",
    "ratings_Amazon_Instant_Video: map_20 0.013933 map_40 0.016361 map_60 0.017246 map_80 0.017717 map_100 0.018045\n",
    "Best Recall for ratings_Amazon_Instant_Video: recall_20 0.092654 recall_40 0.143070 recall_60 0.174942 recall_80 0.198088 recall_100 0.214341\n",
    "Best MAP for ratings_Amazon_Instant_Video: map_20 0.021213 map_40 0.021846 map_60 0.022288 map_80 0.022685 map_100 0.023028\n",
    "\n",
    "#### ratings_Digital_Music\n",
    "targetU2Items = preprocess.source2targetUserRating(metaName[24],ratingFileName[22],percent=1.0, \n",
    "                                                   train_items=1,user_thres = 1,item_thres=1)\n",
    "find the data/amazon/ratings_Digital_Music.csv from data/amazon/ratings_Amazon_Instant_Video\n",
    "starting dump the id of users and items\n",
    "Target Statistic: 720 4262\n",
    "0.001388888888888889\n",
    "0.23128814648249277\n",
    "32 1024 0.001 5 20000 0.001\n",
    "\n",
    "Epoch 1008 training loss 1.247612\n",
    "[0.08987531921285861, 0.14300861248810776, 0.1766286114866557, 0.20407090280907325, 0.22084272194682306, 0.017037482499815616, 0.019295705357660554, 0.020563820039416435, 0.021191521703508805, 0.021521434738171533]\n",
    "ratings_Amazon_Instant_Video: recall_20 0.075845 recall_40 0.128096 recall_60 0.158355 recall_80 0.180414 recall_100 0.195282\n",
    "ratings_Amazon_Instant_Video: map_20 0.012432 map_40 0.015393 map_60 0.016425 map_80 0.016956 map_100 0.017217\n",
    "Best Recall for ratings_Amazon_Instant_Video: recall_20 0.089875 recall_40 0.143009 recall_60 0.176629 recall_80 0.204071 recall_100 0.220843\n",
    "Best MAP for ratings_Amazon_Instant_Video: map_20 0.017037 map_40 0.019296 map_60 0.020564 map_80 0.021192 map_100 0.021521\n",
    "32 1024 0.001 5 20000 0.001\n",
    "targetU2Items = preprocess.source2targetUserRating(metaName[24],ratingFileName[22],percent=1.0, \n",
    "                                                   train_items=1,user_thres = 2,item_thres=1)\n",
    "find the data/amazon/ratings_Digital_Music.csv from data/amazon/ratings_Amazon_Instant_Video\n",
    "starting dump the id of users and items\n",
    "Target Statistic: 104 341\n",
    "0.009615384615384616\n",
    "0.033408287825248954\n",
    "\n",
    "32 1024 0.001 5 20000 0.001\n",
    "Epoch 477 training loss 1.454783\n",
    "[0.08903910670472183, 0.14593535626658655, 0.17144985228581444, 0.19368959991988388, 0.2208890391067048, 0.01962089795890496, 0.02247086913171176, 0.023375174920163472, 0.02390562303916343, 0.024327354663772886]\n",
    "ratings_Amazon_Instant_Video: recall_20 0.056963 recall_40 0.139083 recall_60 0.165404 recall_80 0.176760 recall_100 0.192296\n",
    "ratings_Amazon_Instant_Video: map_20 0.010690 map_40 0.015191 map_60 0.016053 map_80 0.016292 map_100 0.016564\n",
    "Best Recall for ratings_Amazon_Instant_Video: recall_20 0.089039 recall_40 0.145935 recall_60 0.171450 recall_80 0.193690 recall_100 0.220889\n",
    "Best MAP for ratings_Amazon_Instant_Video: map_20 0.019621 map_40 0.022471 map_60 0.023375 map_80 0.023906 map_100 0.02432\n",
    "\n",
    "#### ratings_Musical_Instruments\n",
    "find the data/amazon/ratings_Musical_Instruments.csv from data/amazon/ratings_Amazon_Instant_Video\n",
    "starting dump the id of users and items\n",
    "Target Statistic: 284 932\n",
    "0.0035211267605633804\n",
    "0.09123032444587215\n",
    "\n",
    "32 1024 0.001 5 20000 0.001\n",
    "Epoch 1518 training loss 0.983145\n",
    "[0.09563366881978866, 0.14448199889840269, 0.17636573030894803, 0.193453006859947, 0.21226403284762912, 0.020065002989820592, 0.022669917625637366, 0.02317918676937087, 0.023717786041067265, 0.024091747540322984]\n",
    "ratings_Amazon_Instant_Video: recall_20 0.074986 recall_40 0.126053 recall_60 0.143854 recall_80 0.174511 recall_100 0.186761\n",
    "ratings_Amazon_Instant_Video: map_20 0.013823 map_40 0.016479 map_60 0.016972 map_80 0.017647 map_100 0.017906\n",
    "Best Recall for ratings_Amazon_Instant_Video: recall_20 0.095634 recall_40 0.144482 recall_60 0.176366 recall_80 0.193453 recall_100 0.212264\n",
    "Best MAP for ratings_Amazon_Instant_Video: map_20 0.020065 map_40 0.022670 map_60 0.023179 map_80 0.023718 map_100 0.024092"
   ]
  },
  {
   "cell_type": "code",
   "execution_count": null,
   "metadata": {},
   "outputs": [],
   "source": [
    "# id2userFileName = metaName + '_id2user.pickle'\n",
    "# id2itemFileName = metaName + '_id2item.pickle'\n",
    "# id2userFileName2 = metaName2 + '_id2user.pickle'\n",
    "# id2itemFileName2 = metaName2 + '_id2item.pickle'\n",
    "# id2userFileName3 = metaName3 + '_id2user.pickle'\n",
    "# id2itemFileName3 = metaName3 + '_id2item.pickle'\n",
    "# id2userFileName4 = metaName4 + '_id2user.pickle'\n",
    "# id2itemFileName4 = metaName4 + '_id2item.pickle'\n",
    "id2userInstantVideo, id2itemInstantVideo = preprocess.loadID2UandI(metaName1) \n",
    "\n",
    "id2userVideoGames,id2itemVideoGames = preprocess.loadID2UandI(metaName2)\n",
    "\n",
    "id2userBooks,id2itemBooks = preprocess.loadID2UandI(metaName3)\n",
    "\n",
    "id2userMovies_and_TV,id2itemMovies_and_TV = preprocess.loadID2UandI(metaName4)\n",
    "\n",
    "id2userTools_and_Home_Improvement,id2itemTools_and_Home_Improvement = preprocess.loadID2UandI(metaName5)\n",
    "\n",
    "id2userHome_and_Kitchen,id2itemHome_and_Kitchen = preprocess.loadID2UandI(metaName6)\n",
    "\n",
    "id2userAutomotive,id2itemAutomotive = preprocess.loadID2UandI(metaName7)\n",
    "\n",
    "id2userDigital_Music,id2itemDigital_Music = preprocess.loadID2UandI(metaName8)\n",
    "\n",
    "print(id2userInstantVideo[0])\n",
    "print(id2itemInstantVideo[0])\n",
    "print(id2userVideoGames[0])\n",
    "print(id2itemVideoGames[0])\n",
    "print(id2userMovies_and_TV[0])\n",
    "print(id2itemMovies_and_TV[0])\n",
    "print(id2userBooks[0])\n",
    "print(id2itemBooks[0])\n",
    "print(id2userTools_and_Home_Improvement[0])\n",
    "print(id2userHome_and_Kitchen[0])\n",
    "print(id2userAutomotive[0])\n",
    "print(id2userDigital_Music[0])"
   ]
  },
  {
   "cell_type": "code",
   "execution_count": null,
   "metadata": {
    "scrolled": true
   },
   "outputs": [],
   "source": [
    "# userInInstantVideo = [u for uid,u in id2userInstantVideo.items() ]\n",
    "# itemInInstantVideo = [i for iid,i in id2itemInstantVideo.items() ]\n",
    "# userInVideoGames = [u for uid,u in id2userVideoGames.items() ]\n",
    "# itemInVideoGames = [i for iid,i in id2itemVideoGames.items() ]\n",
    "# userInBooks = [u for uid,u in id2userBooks.items() ]\n",
    "# itemInBooks = [i for iid,i in id2itemBooks.items() ]\n",
    "# userInMoviesandTV = [u for uid,u in id2userMovies_and_TV.items() ]\n",
    "# itemInMoviesandTV = [i for iid,i in id2itemMovies_and_TV.items()]\n",
    "# userInTools_and_Home_Improvement = [u for uid,u in id2userTools_and_Home_Improvement.items() ]\n",
    "# itemInTools_and_Home_Improvement = [i for iid,i in id2itemTools_and_Home_Improvement.items()]\n",
    "# userInHome_and_Kitchen = [u for uid,u in id2userHome_and_Kitchen.items() ]\n",
    "# itemInHome_and_Kitchen = [i for iid,i in id2itemHome_and_Kitchen.items()]\n",
    "# userInAutomotive = [u for uid,u in id2userAutomotive.items() ]\n",
    "# itemInAutomotive = [i for iid,i in id2itemAutomotive.items()]\n",
    "# userInDigital_Music = [u for uid,u in id2userDigital_Music.items() ]\n",
    "# itemInDigital_Music = [i for iid,i in id2itemDigital_Music.items()]\n",
    "sameUser12, _ = preprocess.commonUserItem(metaName,metaName2)\n",
    "# sameUser34, _ = preprocess.commonUserItem(metaName3,metaName4)\n",
    "print(len(sameUser12))\n",
    "print(sameUser12)\n",
    "# print(len(sameItem))"
   ]
  },
  {
   "cell_type": "code",
   "execution_count": null,
   "metadata": {
    "scrolled": true
   },
   "outputs": [],
   "source": [
    "# commonUserIdxPair = preprocess.commonUserIDpair(metaName5, metaName6)\n",
    "commonUserIdxPair12 = preprocess.commonUserIDpair(metaName1, metaName2)\n",
    "# commonUserIdxPair34 = preprocess.commonUserIDpair(metaName3, metaName4)\n",
    "commonUserIdxPair = commonUserIdxPair12\n",
    "print(len(commonUserIdxPair))\n",
    "commonUser_1 = [i for i,j in commonUserIdxPair]\n",
    "print(commonUser_1)"
   ]
  },
  {
   "cell_type": "code",
   "execution_count": null,
   "metadata": {
    "scrolled": true
   },
   "outputs": [],
   "source": [
    "# add the user number threshold\n",
    "u2items = preprocess.processing(ratingFileName, 5, train_items = 10)\n",
    "# print(u2items)\n",
    "i2users = {}\n",
    "for user in u2items:\n",
    "    itemList = u2items[user]\n",
    "    for item in itemList:\n",
    "        if item not in i2users:\n",
    "            i2users[item] = [user]\n",
    "        else:\n",
    "            i2users[item].append(user)\n",
    "# print(i2users)\n",
    "i2usersTemp = {i:u for i,u in i2users.items() if len(u)>3}\n",
    "print(i2usersTemp)"
   ]
  },
  {
   "cell_type": "code",
   "execution_count": 20,
   "metadata": {},
   "outputs": [
    {
     "name": "stdout",
     "output_type": "stream",
     "text": [
      "-----transforming training file----------\n",
      "-----transforming testing file----------\n",
      "-----transforming cross train file----------\n"
     ]
    }
   ],
   "source": [
    "# generate the data for CMF\n",
    "# preprocess.genCrossMetaName(metaName[3], metaName[24])\n",
    "preprocess.transformDataSet2CMF(metaName[24], metaName[3])"
   ]
  }
 ],
 "metadata": {
  "kernelspec": {
   "display_name": "Python 3",
   "language": "python",
   "name": "python3"
  },
  "language_info": {
   "codemirror_mode": {
    "name": "ipython",
    "version": 3
   },
   "file_extension": ".py",
   "mimetype": "text/x-python",
   "name": "python",
   "nbconvert_exporter": "python",
   "pygments_lexer": "ipython3",
   "version": "3.7.4"
  }
 },
 "nbformat": 4,
 "nbformat_minor": 2
}
