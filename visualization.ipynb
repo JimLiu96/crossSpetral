{
 "cells": [
  {
   "cell_type": "code",
   "execution_count": 2,
   "metadata": {},
   "outputs": [],
   "source": [
    "import pickle"
   ]
  },
  {
   "cell_type": "code",
   "execution_count": 13,
   "metadata": {},
   "outputs": [],
   "source": [
    "path = './embedding/'\n",
    "userEmbeddingFile = path + 'userEmbedding.pickle'\n",
    "itemEmbeddingFile = path + 'itemEmbedding.pickle'"
   ]
  },
  {
   "cell_type": "code",
   "execution_count": 23,
   "metadata": {},
   "outputs": [
    {
     "name": "stdout",
     "output_type": "stream",
     "text": [
      "(6014, 16)\n",
      "(3705, 16)\n"
     ]
    }
   ],
   "source": [
    "with open(userEmbeddingFile, 'r') as userEmbeddingF:\n",
    "    ue = pickle.load(userEmbeddingF)\n",
    "    print ue.shape\n",
    "with open(itemEmbeddingFile, 'r') as itemEmbeddingF:\n",
    "    ie = pickle.load(itemEmbeddingF)\n",
    "    print ie.shape"
   ]
  },
  {
   "cell_type": "code",
   "execution_count": 24,
   "metadata": {},
   "outputs": [
    {
     "name": "stdout",
     "output_type": "stream",
     "text": [
      "[ 0.0043236   0.04161827 -0.00111462 -0.01023426  0.02934867 -0.02597065\n",
      "  0.01325615  0.03979046  0.03282516 -0.04218761  0.01222285  0.0281891\n",
      "  0.05027846  0.01147317  0.03409833 -0.0120149 ]\n"
     ]
    }
   ],
   "source": [
    "print ie[23,:]"
   ]
  },
  {
   "cell_type": "code",
   "execution_count": 1,
   "metadata": {},
   "outputs": [
    {
     "data": {
      "text/plain": [
       "[1, 2, 3, 4]"
      ]
     },
     "execution_count": 1,
     "metadata": {},
     "output_type": "execute_result"
    }
   ],
   "source": [
    "a = [1,2,3]\n",
    "b = [4]\n",
    "a + b"
   ]
  }
 ],
 "metadata": {
  "kernelspec": {
   "display_name": "Python [conda env:zhiweitensorflow3]",
   "language": "python",
   "name": "conda-env-zhiweitensorflow3-py"
  },
  "language_info": {
   "codemirror_mode": {
    "name": "ipython",
    "version": 3
   },
   "file_extension": ".py",
   "mimetype": "text/x-python",
   "name": "python",
   "nbconvert_exporter": "python",
   "pygments_lexer": "ipython3",
   "version": "3.6.6"
  }
 },
 "nbformat": 4,
 "nbformat_minor": 2
}
