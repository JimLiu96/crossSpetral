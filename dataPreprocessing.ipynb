{
 "cells": [
  {
   "cell_type": "code",
   "execution_count": 6,
   "metadata": {},
   "outputs": [
    {
     "name": "stdout",
     "output_type": "stream",
     "text": [
      "The autoreload extension is already loaded. To reload it, use:\n",
      "  %reload_ext autoreload\n"
     ]
    }
   ],
   "source": [
    "# %load_ext autoreload\n",
    "%load_ext autoreload\n",
    "%autoreload 2"
   ]
  },
  {
   "cell_type": "code",
   "execution_count": 1,
   "metadata": {},
   "outputs": [],
   "source": [
    "import sys\n",
    "import preprocess\n",
    "import pickle\n",
    "import numpy as np"
   ]
  },
  {
   "cell_type": "code",
   "execution_count": null,
   "metadata": {},
   "outputs": [],
   "source": [
    "# sys.path.append(\"../../datasets/recsys/amazon/\")"
   ]
  },
  {
   "cell_type": "code",
   "execution_count": 2,
   "metadata": {},
   "outputs": [
    {
     "name": "stdout",
     "output_type": "stream",
     "text": [
      "data/amazon/ratings_Amazon_Instant_Video\n",
      "data/amazon/ratings_Video_Games\n",
      "data/amazon/ratings_Books\n",
      "data/amazon/ratings_Movies_and_TV\n",
      "data/amazon/ratings_Tools_and_Home_Improvement\n",
      "data/amazon/ratings_Home_and_Kitchen\n",
      "data/amazon/ratings_Automotive\n",
      "data/amazon/ratings_Digital_Music\n"
     ]
    }
   ],
   "source": [
    "ratingFileName1 = 'data/amazon/ratings_Amazon_Instant_Video.csv'\n",
    "ratingFileName2 = 'data/amazon/ratings_Video_Games.csv'\n",
    "ratingFileName3 = 'data/amazon/ratings_Books.csv'\n",
    "ratingFileName4 = 'data/amazon/ratings_Movies_and_TV.csv'\n",
    "ratingFileName5 = 'data/amazon/ratings_Tools_and_Home_Improvement.csv'\n",
    "ratingFileName6 = 'data/amazon/ratings_Home_and_Kitchen.csv'\n",
    "ratingFileName7 = 'data/amazon/ratings_Automotive.csv'\n",
    "ratingFileName8 = 'data/amazon/ratings_Digital_Music.csv'\n",
    "\n",
    "metaName1 = ratingFileName1.split('.')[0]\n",
    "metaName2 = ratingFileName2.split('.')[0]\n",
    "metaName3 = ratingFileName3.split('.')[0]\n",
    "metaName4 = ratingFileName4.split('.')[0]\n",
    "metaName5 = ratingFileName5.split('.')[0]\n",
    "metaName6 = ratingFileName6.split('.')[0]\n",
    "metaName7 = ratingFileName7.split('.')[0]\n",
    "metaName8 = ratingFileName8.split('.')[0]\n",
    "\n",
    "print(metaName1)\n",
    "print(metaName2)\n",
    "print(metaName3)\n",
    "print(metaName4)\n",
    "print(metaName5)\n",
    "print(metaName6)\n",
    "print(metaName7)\n",
    "print(metaName8)"
   ]
  },
  {
   "cell_type": "code",
   "execution_count": null,
   "metadata": {},
   "outputs": [],
   "source": [
    "# preprocess.processing(ratingFileName1, num_items = 5, train_items = 10, num_users = 0)\n",
    "# preprocess.processing(ratingFileName2,num_items = 5, train_items = 10, num_users = 3)\n",
    "# preprocess.processing(ratingFileName3,num_items = 30, train_items = 50, num_users = 30)\n",
    "# preprocess.processing(ratingFileName4, num_items = 15, train_items = 20, num_users = 10)\n",
    "# preprocess.processing(ratingFileName5,num_items = 5, train_items = 10, num_users = 5)\n",
    "# preprocess.processing(ratingFileName6,num_items = 10, train_items = 15, num_users = 5)\n",
    "# preprocess.processing(ratingFileName7,40)\n",
    "# preprocess.processing(ratingFileName8,60)"
   ]
  },
  {
   "cell_type": "code",
   "execution_count": 12,
   "metadata": {},
   "outputs": [
    {
     "name": "stdout",
     "output_type": "stream",
     "text": [
      "starting dump the id of users and items\n",
      "Target Statistic: 2796 2775\n",
      "0.000357653791130186\n",
      "0.8981689688403469\n"
     ]
    }
   ],
   "source": [
    "targetU2Items = preprocess.source2targetUserRating(metaName1,ratingFileName4)"
   ]
  },
  {
   "cell_type": "code",
   "execution_count": 14,
   "metadata": {},
   "outputs": [
    {
     "name": "stdout",
     "output_type": "stream",
     "text": [
      "2796\n"
     ]
    }
   ],
   "source": [
    "# source target ID pair\n",
    "sourceMetaName1 = preprocess.pathMetaN2MetaN(metaName1,isFile=False)\n",
    "targetMetaName4 = metaName4 + '_from_' + sourceMetaName1\n",
    "st14 = preprocess.commonUserIDpair(metaName1, targetMetaName4)\n",
    "print(len(st14))"
   ]
  },
  {
   "cell_type": "code",
   "execution_count": null,
   "metadata": {},
   "outputs": [],
   "source": [
    "# id2userFileName = metaName + '_id2user.pickle'\n",
    "# id2itemFileName = metaName + '_id2item.pickle'\n",
    "# id2userFileName2 = metaName2 + '_id2user.pickle'\n",
    "# id2itemFileName2 = metaName2 + '_id2item.pickle'\n",
    "# id2userFileName3 = metaName3 + '_id2user.pickle'\n",
    "# id2itemFileName3 = metaName3 + '_id2item.pickle'\n",
    "# id2userFileName4 = metaName4 + '_id2user.pickle'\n",
    "# id2itemFileName4 = metaName4 + '_id2item.pickle'\n",
    "id2userInstantVideo, id2itemInstantVideo = preprocess.loadID2UandI(metaName1) \n",
    "\n",
    "id2userVideoGames,id2itemVideoGames = preprocess.loadID2UandI(metaName2)\n",
    "\n",
    "id2userBooks,id2itemBooks = preprocess.loadID2UandI(metaName3)\n",
    "\n",
    "id2userMovies_and_TV,id2itemMovies_and_TV = preprocess.loadID2UandI(metaName4)\n",
    "\n",
    "id2userTools_and_Home_Improvement,id2itemTools_and_Home_Improvement = preprocess.loadID2UandI(metaName5)\n",
    "\n",
    "id2userHome_and_Kitchen,id2itemHome_and_Kitchen = preprocess.loadID2UandI(metaName6)\n",
    "\n",
    "id2userAutomotive,id2itemAutomotive = preprocess.loadID2UandI(metaName7)\n",
    "\n",
    "id2userDigital_Music,id2itemDigital_Music = preprocess.loadID2UandI(metaName8)\n",
    "\n",
    "print(id2userInstantVideo[0])\n",
    "print(id2itemInstantVideo[0])\n",
    "print(id2userVideoGames[0])\n",
    "print(id2itemVideoGames[0])\n",
    "print(id2userMovies_and_TV[0])\n",
    "print(id2itemMovies_and_TV[0])\n",
    "print(id2userBooks[0])\n",
    "print(id2itemBooks[0])\n",
    "print(id2userTools_and_Home_Improvement[0])\n",
    "print(id2userHome_and_Kitchen[0])\n",
    "print(id2userAutomotive[0])\n",
    "print(id2userDigital_Music[0])"
   ]
  },
  {
   "cell_type": "code",
   "execution_count": null,
   "metadata": {
    "scrolled": true
   },
   "outputs": [],
   "source": [
    "# userInInstantVideo = [u for uid,u in id2userInstantVideo.items() ]\n",
    "# itemInInstantVideo = [i for iid,i in id2itemInstantVideo.items() ]\n",
    "# userInVideoGames = [u for uid,u in id2userVideoGames.items() ]\n",
    "# itemInVideoGames = [i for iid,i in id2itemVideoGames.items() ]\n",
    "# userInBooks = [u for uid,u in id2userBooks.items() ]\n",
    "# itemInBooks = [i for iid,i in id2itemBooks.items() ]\n",
    "# userInMoviesandTV = [u for uid,u in id2userMovies_and_TV.items() ]\n",
    "# itemInMoviesandTV = [i for iid,i in id2itemMovies_and_TV.items()]\n",
    "# userInTools_and_Home_Improvement = [u for uid,u in id2userTools_and_Home_Improvement.items() ]\n",
    "# itemInTools_and_Home_Improvement = [i for iid,i in id2itemTools_and_Home_Improvement.items()]\n",
    "# userInHome_and_Kitchen = [u for uid,u in id2userHome_and_Kitchen.items() ]\n",
    "# itemInHome_and_Kitchen = [i for iid,i in id2itemHome_and_Kitchen.items()]\n",
    "# userInAutomotive = [u for uid,u in id2userAutomotive.items() ]\n",
    "# itemInAutomotive = [i for iid,i in id2itemAutomotive.items()]\n",
    "# userInDigital_Music = [u for uid,u in id2userDigital_Music.items() ]\n",
    "# itemInDigital_Music = [i for iid,i in id2itemDigital_Music.items()]\n",
    "sameUser12, _ = preprocess.commonUserItem(metaName1,metaName2)\n",
    "# sameUser34, _ = preprocess.commonUserItem(metaName3,metaName4)\n",
    "print(len(sameUser12))\n",
    "print(sameUser12)\n",
    "# print(len(sameItem))"
   ]
  },
  {
   "cell_type": "code",
   "execution_count": null,
   "metadata": {
    "scrolled": true
   },
   "outputs": [],
   "source": [
    "# commonUserIdxPair = preprocess.commonUserIDpair(metaName5, metaName6)\n",
    "commonUserIdxPair12 = preprocess.commonUserIDpair(metaName1, metaName2)\n",
    "# commonUserIdxPair34 = preprocess.commonUserIDpair(metaName3, metaName4)\n",
    "commonUserIdxPair = commonUserIdxPair12\n",
    "print(len(commonUserIdxPair))\n",
    "commonUser_1 = [i for i,j in commonUserIdxPair]\n",
    "print(commonUser_1)"
   ]
  },
  {
   "cell_type": "code",
   "execution_count": null,
   "metadata": {
    "scrolled": true
   },
   "outputs": [],
   "source": [
    "# add the user number threshold\n",
    "u2items = preprocess.processing(ratingFileName, 5, train_items = 10)\n",
    "# print(u2items)\n",
    "i2users = {}\n",
    "for user in u2items:\n",
    "    itemList = u2items[user]\n",
    "    for item in itemList:\n",
    "        if item not in i2users:\n",
    "            i2users[item] = [user]\n",
    "        else:\n",
    "            i2users[item].append(user)\n",
    "# print(i2users)\n",
    "i2usersTemp = {i:u for i,u in i2users.items() if len(u)>3}\n",
    "print(i2usersTemp)"
   ]
  },
  {
   "cell_type": "code",
   "execution_count": null,
   "metadata": {},
   "outputs": [],
   "source": [
    "idx = np.random.permutation(10)\n",
    "a = [1] * 10\n",
    "print(a)\n",
    "print(idx)\n",
    "a[idx]"
   ]
  }
 ],
 "metadata": {
  "kernelspec": {
   "display_name": "Python [conda env:zhiweitensorflow3]",
   "language": "python",
   "name": "conda-env-zhiweitensorflow3-py"
  },
  "language_info": {
   "codemirror_mode": {
    "name": "ipython",
    "version": 3
   },
   "file_extension": ".py",
   "mimetype": "text/x-python",
   "name": "python",
   "nbconvert_exporter": "python",
   "pygments_lexer": "ipython3",
   "version": "3.6.6"
  }
 },
 "nbformat": 4,
 "nbformat_minor": 2
}
